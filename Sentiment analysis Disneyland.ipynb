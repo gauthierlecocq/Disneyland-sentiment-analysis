{
 "cells": [
  {
   "cell_type": "markdown",
   "metadata": {
    "id": "UEa8O_OU8RO_"
   },
   "source": [
    "# Sentiment Analysis of Disneyland's french reviews\n",
    "\n",
    "Sentiment Analysis is looking at what your customers think of your product. We will understand what people think about Disneyland Amusement Park."
   ]
  },
  {
   "cell_type": "markdown",
   "metadata": {
    "id": "GlZE3Ntm8gv4"
   },
   "source": [
    "## Data Preprocessing"
   ]
  },
  {
   "cell_type": "markdown",
   "metadata": {
    "id": "FpRfWDCp9vlf"
   },
   "source": [
    "### Import Data \n",
    "\n"
   ]
  },
  {
   "cell_type": "code",
   "execution_count": 1,
   "metadata": {
    "colab": {
     "base_uri": "https://localhost:8080/",
     "height": 35
    },
    "id": "RMBnbVdZygEr",
    "outputId": "76c03c4e-a264-4863-8349-a233dc41d367"
   },
   "outputs": [
    {
     "name": "stdout",
     "output_type": "stream",
     "text": [
      "INFO:tensorflow:Enabling eager execution\n",
      "INFO:tensorflow:Enabling v2 tensorshape\n",
      "INFO:tensorflow:Enabling resource variables\n",
      "INFO:tensorflow:Enabling tensor equality\n",
      "INFO:tensorflow:Enabling control flow v2\n"
     ]
    },
    {
     "data": {
      "text/plain": [
       "'2.5.0-rc1'"
      ]
     },
     "execution_count": 1,
     "metadata": {},
     "output_type": "execute_result"
    }
   ],
   "source": [
    "# Import Tensorflow & Pathlib librairies\n",
    "import tensorflow as tf \n",
    "import tensorflow_datasets as tfds\n",
    "import pathlib \n",
    "import pandas as pd \n",
    "tf.__version__"
   ]
  },
  {
   "cell_type": "code",
   "execution_count": 2,
   "metadata": {
    "colab": {
     "base_uri": "https://localhost:8080/",
     "height": 377
    },
    "id": "Irik4DyW0acS",
    "outputId": "5f0ab063-e298-4383-d324-42fa9ce3cc8f"
   },
   "outputs": [
    {
     "data": {
      "text/html": [
       "<div>\n",
       "<style scoped>\n",
       "    .dataframe tbody tr th:only-of-type {\n",
       "        vertical-align: middle;\n",
       "    }\n",
       "\n",
       "    .dataframe tbody tr th {\n",
       "        vertical-align: top;\n",
       "    }\n",
       "\n",
       "    .dataframe thead th {\n",
       "        text-align: right;\n",
       "    }\n",
       "</style>\n",
       "<table border=\"1\" class=\"dataframe\">\n",
       "  <thead>\n",
       "    <tr style=\"text-align: right;\">\n",
       "      <th></th>\n",
       "      <th>user_id</th>\n",
       "      <th>review</th>\n",
       "      <th>stars</th>\n",
       "      <th>date_format</th>\n",
       "      <th>time_of_day</th>\n",
       "      <th>hour_of_day</th>\n",
       "      <th>day_of_week</th>\n",
       "      <th>review_format</th>\n",
       "      <th>review_lang</th>\n",
       "      <th>month_year</th>\n",
       "      <th>review_len</th>\n",
       "      <th>review_nb_words</th>\n",
       "    </tr>\n",
       "  </thead>\n",
       "  <tbody>\n",
       "    <tr>\n",
       "      <th>0</th>\n",
       "      <td>efb62a167fee5cf3678b24427de8e31f</td>\n",
       "      <td>Génial, fabuleux, exceptionnel ! J'aimerais qu...</td>\n",
       "      <td>5</td>\n",
       "      <td>2017-09-29 18:17:00</td>\n",
       "      <td>18:17</td>\n",
       "      <td>18</td>\n",
       "      <td>Ven</td>\n",
       "      <td>génial  fabuleux  exceptionnel   j aimerais qu...</td>\n",
       "      <td>french</td>\n",
       "      <td>2017-09</td>\n",
       "      <td>115</td>\n",
       "      <td>19</td>\n",
       "    </tr>\n",
       "    <tr>\n",
       "      <th>1</th>\n",
       "      <td>e3be4f9c9e0b9572bfb2a5f88497bb14</td>\n",
       "      <td>NaN</td>\n",
       "      <td>2</td>\n",
       "      <td>2017-09-29 17:29:00</td>\n",
       "      <td>17:29</td>\n",
       "      <td>17</td>\n",
       "      <td>Ven</td>\n",
       "      <td>NaN</td>\n",
       "      <td>NaN</td>\n",
       "      <td>2017-09</td>\n",
       "      <td>0</td>\n",
       "      <td>0</td>\n",
       "    </tr>\n",
       "    <tr>\n",
       "      <th>2</th>\n",
       "      <td>1b8e5760162d867e9b9ca80f645bdc60</td>\n",
       "      <td>Toujours aussi magic, féerique !</td>\n",
       "      <td>5</td>\n",
       "      <td>2017-09-29 16:46:00</td>\n",
       "      <td>16:46</td>\n",
       "      <td>16</td>\n",
       "      <td>Ven</td>\n",
       "      <td>toujours aussi magic  féerique</td>\n",
       "      <td>french</td>\n",
       "      <td>2017-09</td>\n",
       "      <td>32</td>\n",
       "      <td>4</td>\n",
       "    </tr>\n",
       "    <tr>\n",
       "      <th>3</th>\n",
       "      <td>fa330e5891a1bb486c3e9bf95c098726</td>\n",
       "      <td>NaN</td>\n",
       "      <td>5</td>\n",
       "      <td>2017-09-29 15:52:00</td>\n",
       "      <td>15:52</td>\n",
       "      <td>15</td>\n",
       "      <td>Ven</td>\n",
       "      <td>NaN</td>\n",
       "      <td>NaN</td>\n",
       "      <td>2017-09</td>\n",
       "      <td>0</td>\n",
       "      <td>0</td>\n",
       "    </tr>\n",
       "    <tr>\n",
       "      <th>4</th>\n",
       "      <td>c1a693206aee1a2412d4bd9e45b80ec5</td>\n",
       "      <td>NaN</td>\n",
       "      <td>3</td>\n",
       "      <td>2017-09-29 15:29:00</td>\n",
       "      <td>15:29</td>\n",
       "      <td>15</td>\n",
       "      <td>Ven</td>\n",
       "      <td>NaN</td>\n",
       "      <td>NaN</td>\n",
       "      <td>2017-09</td>\n",
       "      <td>0</td>\n",
       "      <td>0</td>\n",
       "    </tr>\n",
       "  </tbody>\n",
       "</table>\n",
       "</div>"
      ],
      "text/plain": [
       "                            user_id  \\\n",
       "0  efb62a167fee5cf3678b24427de8e31f   \n",
       "1  e3be4f9c9e0b9572bfb2a5f88497bb14   \n",
       "2  1b8e5760162d867e9b9ca80f645bdc60   \n",
       "3  fa330e5891a1bb486c3e9bf95c098726   \n",
       "4  c1a693206aee1a2412d4bd9e45b80ec5   \n",
       "\n",
       "                                              review  stars  \\\n",
       "0  Génial, fabuleux, exceptionnel ! J'aimerais qu...      5   \n",
       "1                                                NaN      2   \n",
       "2                   Toujours aussi magic, féerique !      5   \n",
       "3                                                NaN      5   \n",
       "4                                                NaN      3   \n",
       "\n",
       "           date_format time_of_day  hour_of_day day_of_week  \\\n",
       "0  2017-09-29 18:17:00       18:17           18         Ven   \n",
       "1  2017-09-29 17:29:00       17:29           17         Ven   \n",
       "2  2017-09-29 16:46:00       16:46           16         Ven   \n",
       "3  2017-09-29 15:52:00       15:52           15         Ven   \n",
       "4  2017-09-29 15:29:00       15:29           15         Ven   \n",
       "\n",
       "                                       review_format review_lang month_year  \\\n",
       "0  génial  fabuleux  exceptionnel   j aimerais qu...      french    2017-09   \n",
       "1                                                NaN         NaN    2017-09   \n",
       "2                   toujours aussi magic  féerique        french    2017-09   \n",
       "3                                                NaN         NaN    2017-09   \n",
       "4                                                NaN         NaN    2017-09   \n",
       "\n",
       "   review_len  review_nb_words  \n",
       "0         115               19  \n",
       "1           0                0  \n",
       "2          32                4  \n",
       "3           0                0  \n",
       "4           0                0  "
      ]
     },
     "execution_count": 2,
     "metadata": {},
     "output_type": "execute_result"
    }
   ],
   "source": [
    "# Import dataset in Pandas \n",
    "dataset = pd.read_csv(\"https://go.aws/314bBDq\", error_bad_lines=False, encoding=\"utf-8\")\n",
    "dataset.head()"
   ]
  },
  {
   "cell_type": "code",
   "execution_count": 3,
   "metadata": {
    "colab": {
     "base_uri": "https://localhost:8080/",
     "height": 308
    },
    "id": "lXLZFpg50swK",
    "outputId": "0b546250-fca6-4771-bade-6bb025034b9a"
   },
   "outputs": [
    {
     "data": {
      "text/html": [
       "<div>\n",
       "<style scoped>\n",
       "    .dataframe tbody tr th:only-of-type {\n",
       "        vertical-align: middle;\n",
       "    }\n",
       "\n",
       "    .dataframe tbody tr th {\n",
       "        vertical-align: top;\n",
       "    }\n",
       "\n",
       "    .dataframe thead th {\n",
       "        text-align: right;\n",
       "    }\n",
       "</style>\n",
       "<table border=\"1\" class=\"dataframe\">\n",
       "  <thead>\n",
       "    <tr style=\"text-align: right;\">\n",
       "      <th></th>\n",
       "      <th>user_id</th>\n",
       "      <th>review</th>\n",
       "      <th>stars</th>\n",
       "      <th>date_format</th>\n",
       "      <th>time_of_day</th>\n",
       "      <th>hour_of_day</th>\n",
       "      <th>day_of_week</th>\n",
       "      <th>review_format</th>\n",
       "      <th>review_lang</th>\n",
       "      <th>month_year</th>\n",
       "      <th>review_len</th>\n",
       "      <th>review_nb_words</th>\n",
       "    </tr>\n",
       "  </thead>\n",
       "  <tbody>\n",
       "    <tr>\n",
       "      <th>0</th>\n",
       "      <td>efb62a167fee5cf3678b24427de8e31f</td>\n",
       "      <td>Génial, fabuleux, exceptionnel ! J'aimerais qu...</td>\n",
       "      <td>5</td>\n",
       "      <td>2017-09-29 18:17:00</td>\n",
       "      <td>18:17</td>\n",
       "      <td>18</td>\n",
       "      <td>Ven</td>\n",
       "      <td>génial  fabuleux  exceptionnel   j aimerais qu...</td>\n",
       "      <td>french</td>\n",
       "      <td>2017-09</td>\n",
       "      <td>115</td>\n",
       "      <td>19</td>\n",
       "    </tr>\n",
       "    <tr>\n",
       "      <th>2</th>\n",
       "      <td>1b8e5760162d867e9b9ca80f645bdc60</td>\n",
       "      <td>Toujours aussi magic, féerique !</td>\n",
       "      <td>5</td>\n",
       "      <td>2017-09-29 16:46:00</td>\n",
       "      <td>16:46</td>\n",
       "      <td>16</td>\n",
       "      <td>Ven</td>\n",
       "      <td>toujours aussi magic  féerique</td>\n",
       "      <td>french</td>\n",
       "      <td>2017-09</td>\n",
       "      <td>32</td>\n",
       "      <td>4</td>\n",
       "    </tr>\n",
       "    <tr>\n",
       "      <th>11</th>\n",
       "      <td>726b1a3e2664e8b075129bcd643dbf56</td>\n",
       "      <td>En vacances en région parisienne nous nous som...</td>\n",
       "      <td>2</td>\n",
       "      <td>2017-09-29 00:37:00</td>\n",
       "      <td>00:37</td>\n",
       "      <td>0</td>\n",
       "      <td>Ven</td>\n",
       "      <td>en vacances en région parisienne nous nous som...</td>\n",
       "      <td>french</td>\n",
       "      <td>2017-09</td>\n",
       "      <td>172</td>\n",
       "      <td>25</td>\n",
       "    </tr>\n",
       "    <tr>\n",
       "      <th>12</th>\n",
       "      <td>8a71763fbb3da7436b957681b24cc404</td>\n",
       "      <td>Tropbeaufinalpleinlesyeuxoreil</td>\n",
       "      <td>5</td>\n",
       "      <td>2017-09-29 00:16:00</td>\n",
       "      <td>00:16</td>\n",
       "      <td>0</td>\n",
       "      <td>Ven</td>\n",
       "      <td>tropbeaufinalpleinlesyeuxoreil</td>\n",
       "      <td>french</td>\n",
       "      <td>2017-09</td>\n",
       "      <td>30</td>\n",
       "      <td>1</td>\n",
       "    </tr>\n",
       "    <tr>\n",
       "      <th>23</th>\n",
       "      <td>ce7abd7798ee036d667c0ad84b85daa7</td>\n",
       "      <td>L'univers Disney reste merveilleux. Toutefois ...</td>\n",
       "      <td>4</td>\n",
       "      <td>2017-09-28 20:24:00</td>\n",
       "      <td>20:24</td>\n",
       "      <td>20</td>\n",
       "      <td>Jeu</td>\n",
       "      <td>l univers disney reste merveilleux  toutefois ...</td>\n",
       "      <td>french</td>\n",
       "      <td>2017-09</td>\n",
       "      <td>148</td>\n",
       "      <td>23</td>\n",
       "    </tr>\n",
       "  </tbody>\n",
       "</table>\n",
       "</div>"
      ],
      "text/plain": [
       "                             user_id  \\\n",
       "0   efb62a167fee5cf3678b24427de8e31f   \n",
       "2   1b8e5760162d867e9b9ca80f645bdc60   \n",
       "11  726b1a3e2664e8b075129bcd643dbf56   \n",
       "12  8a71763fbb3da7436b957681b24cc404   \n",
       "23  ce7abd7798ee036d667c0ad84b85daa7   \n",
       "\n",
       "                                               review  stars  \\\n",
       "0   Génial, fabuleux, exceptionnel ! J'aimerais qu...      5   \n",
       "2                    Toujours aussi magic, féerique !      5   \n",
       "11  En vacances en région parisienne nous nous som...      2   \n",
       "12                     Tropbeaufinalpleinlesyeuxoreil      5   \n",
       "23  L'univers Disney reste merveilleux. Toutefois ...      4   \n",
       "\n",
       "            date_format time_of_day  hour_of_day day_of_week  \\\n",
       "0   2017-09-29 18:17:00       18:17           18         Ven   \n",
       "2   2017-09-29 16:46:00       16:46           16         Ven   \n",
       "11  2017-09-29 00:37:00       00:37            0         Ven   \n",
       "12  2017-09-29 00:16:00       00:16            0         Ven   \n",
       "23  2017-09-28 20:24:00       20:24           20         Jeu   \n",
       "\n",
       "                                        review_format review_lang month_year  \\\n",
       "0   génial  fabuleux  exceptionnel   j aimerais qu...      french    2017-09   \n",
       "2                    toujours aussi magic  féerique        french    2017-09   \n",
       "11  en vacances en région parisienne nous nous som...      french    2017-09   \n",
       "12                     tropbeaufinalpleinlesyeuxoreil      french    2017-09   \n",
       "23  l univers disney reste merveilleux  toutefois ...      french    2017-09   \n",
       "\n",
       "    review_len  review_nb_words  \n",
       "0          115               19  \n",
       "2           32                4  \n",
       "11         172               25  \n",
       "12          30                1  \n",
       "23         148               23  "
      ]
     },
     "execution_count": 3,
     "metadata": {},
     "output_type": "execute_result"
    }
   ],
   "source": [
    "# Taking only french reviews\n",
    "french_reviews = dataset[dataset.review_lang == \"french\"]\n",
    "french_reviews.head()"
   ]
  },
  {
   "cell_type": "code",
   "execution_count": 4,
   "metadata": {
    "colab": {
     "base_uri": "https://localhost:8080/",
     "height": 203
    },
    "id": "xe2j2atl1qNM",
    "outputId": "6f3c37e8-b46e-4468-a074-e9b550f3224f"
   },
   "outputs": [
    {
     "data": {
      "text/html": [
       "<div>\n",
       "<style scoped>\n",
       "    .dataframe tbody tr th:only-of-type {\n",
       "        vertical-align: middle;\n",
       "    }\n",
       "\n",
       "    .dataframe tbody tr th {\n",
       "        vertical-align: top;\n",
       "    }\n",
       "\n",
       "    .dataframe thead th {\n",
       "        text-align: right;\n",
       "    }\n",
       "</style>\n",
       "<table border=\"1\" class=\"dataframe\">\n",
       "  <thead>\n",
       "    <tr style=\"text-align: right;\">\n",
       "      <th></th>\n",
       "      <th>review_format</th>\n",
       "      <th>stars</th>\n",
       "    </tr>\n",
       "  </thead>\n",
       "  <tbody>\n",
       "    <tr>\n",
       "      <th>0</th>\n",
       "      <td>génial  fabuleux  exceptionnel   j aimerais qu...</td>\n",
       "      <td>5</td>\n",
       "    </tr>\n",
       "    <tr>\n",
       "      <th>2</th>\n",
       "      <td>toujours aussi magic  féerique</td>\n",
       "      <td>5</td>\n",
       "    </tr>\n",
       "    <tr>\n",
       "      <th>11</th>\n",
       "      <td>en vacances en région parisienne nous nous som...</td>\n",
       "      <td>2</td>\n",
       "    </tr>\n",
       "    <tr>\n",
       "      <th>12</th>\n",
       "      <td>tropbeaufinalpleinlesyeuxoreil</td>\n",
       "      <td>5</td>\n",
       "    </tr>\n",
       "    <tr>\n",
       "      <th>23</th>\n",
       "      <td>l univers disney reste merveilleux  toutefois ...</td>\n",
       "      <td>4</td>\n",
       "    </tr>\n",
       "  </tbody>\n",
       "</table>\n",
       "</div>"
      ],
      "text/plain": [
       "                                        review_format  stars\n",
       "0   génial  fabuleux  exceptionnel   j aimerais qu...      5\n",
       "2                    toujours aussi magic  féerique        5\n",
       "11  en vacances en région parisienne nous nous som...      2\n",
       "12                     tropbeaufinalpleinlesyeuxoreil      5\n",
       "23  l univers disney reste merveilleux  toutefois ...      4"
      ]
     },
     "execution_count": 4,
     "metadata": {},
     "output_type": "execute_result"
    }
   ],
   "source": [
    "# Let's take the columns we're interested in\n",
    "french_reviews = french_reviews[[\"review_format\", \"stars\"]]\n",
    "french_reviews.head()"
   ]
  },
  {
   "cell_type": "code",
   "execution_count": 5,
   "metadata": {},
   "outputs": [],
   "source": [
    "# Delete NaN\n",
    "french_reviews = french_reviews.dropna()"
   ]
  },
  {
   "cell_type": "code",
   "execution_count": 6,
   "metadata": {},
   "outputs": [
    {
     "data": {
      "text/plain": [
       "array([5, 2, 4, 3, 1], dtype=int64)"
      ]
     },
     "execution_count": 6,
     "metadata": {},
     "output_type": "execute_result"
    }
   ],
   "source": [
    "# Unique value\n",
    "french_reviews[\"stars\"].unique()"
   ]
  },
  {
   "cell_type": "code",
   "execution_count": 7,
   "metadata": {},
   "outputs": [
    {
     "data": {
      "text/plain": [
       "(8474, 2)"
      ]
     },
     "execution_count": 7,
     "metadata": {},
     "output_type": "execute_result"
    }
   ],
   "source": [
    "# Shape of french_reviews dataset\n",
    "french_reviews.shape"
   ]
  },
  {
   "cell_type": "markdown",
   "metadata": {
    "id": "X8Duro5f8i7U"
   },
   "source": [
    "### Tokenize\n",
    "\n",
    "We will now go through a Tokenation phase."
   ]
  },
  {
   "cell_type": "markdown",
   "metadata": {
    "id": "Z1khjji0HMvk"
   },
   "source": [
    "We download all language elements related to the French language "
   ]
  },
  {
   "cell_type": "code",
   "execution_count": 8,
   "metadata": {
    "colab": {
     "base_uri": "https://localhost:8080/"
    },
    "id": "VwTE6DhFmH7A",
    "outputId": "0bd94f64-9540-46eb-c50e-a3c03a5e5c62"
   },
   "outputs": [
    {
     "name": "stdout",
     "output_type": "stream",
     "text": [
      "Collecting fr-core-news-sm==3.0.0\n",
      "  Downloading https://github.com/explosion/spacy-models/releases/download/fr_core_news_sm-3.0.0/fr_core_news_sm-3.0.0-py3-none-any.whl (17.2 MB)\n",
      "Requirement already satisfied: spacy<3.1.0,>=3.0.0 in c:\\users\\33665\\anaconda3\\envs\\salto\\lib\\site-packages (from fr-core-news-sm==3.0.0) (3.0.5)\n",
      "Requirement already satisfied: numpy>=1.15.0 in c:\\users\\33665\\anaconda3\\envs\\salto\\lib\\site-packages (from spacy<3.1.0,>=3.0.0->fr-core-news-sm==3.0.0) (1.19.5)\n",
      "Requirement already satisfied: setuptools in c:\\users\\33665\\anaconda3\\envs\\salto\\lib\\site-packages (from spacy<3.1.0,>=3.0.0->fr-core-news-sm==3.0.0) (49.6.0.post20210108)\n",
      "Requirement already satisfied: requests<3.0.0,>=2.13.0 in c:\\users\\33665\\anaconda3\\envs\\salto\\lib\\site-packages (from spacy<3.1.0,>=3.0.0->fr-core-news-sm==3.0.0) (2.25.1)\n",
      "Requirement already satisfied: packaging>=20.0 in c:\\users\\33665\\anaconda3\\envs\\salto\\lib\\site-packages (from spacy<3.1.0,>=3.0.0->fr-core-news-sm==3.0.0) (20.9)\n",
      "Requirement already satisfied: pathy>=0.3.5 in c:\\users\\33665\\anaconda3\\envs\\salto\\lib\\site-packages (from spacy<3.1.0,>=3.0.0->fr-core-news-sm==3.0.0) (0.4.0)\n",
      "Requirement already satisfied: murmurhash<1.1.0,>=0.28.0 in c:\\users\\33665\\anaconda3\\envs\\salto\\lib\\site-packages (from spacy<3.1.0,>=3.0.0->fr-core-news-sm==3.0.0) (1.0.5)\n",
      "Requirement already satisfied: catalogue<2.1.0,>=2.0.1 in c:\\users\\33665\\anaconda3\\envs\\salto\\lib\\site-packages (from spacy<3.1.0,>=3.0.0->fr-core-news-sm==3.0.0) (2.0.3)\n",
      "Requirement already satisfied: thinc<8.1.0,>=8.0.2 in c:\\users\\33665\\anaconda3\\envs\\salto\\lib\\site-packages (from spacy<3.1.0,>=3.0.0->fr-core-news-sm==3.0.0) (8.0.3)\n",
      "Requirement already satisfied: preshed<3.1.0,>=3.0.2 in c:\\users\\33665\\anaconda3\\envs\\salto\\lib\\site-packages (from spacy<3.1.0,>=3.0.0->fr-core-news-sm==3.0.0) (3.0.5)\n",
      "Requirement already satisfied: wasabi<1.1.0,>=0.8.1 in c:\\users\\33665\\anaconda3\\envs\\salto\\lib\\site-packages (from spacy<3.1.0,>=3.0.0->fr-core-news-sm==3.0.0) (0.8.2)\n",
      "Requirement already satisfied: pydantic<1.8.0,>=1.7.1 in c:\\users\\33665\\anaconda3\\envs\\salto\\lib\\site-packages (from spacy<3.1.0,>=3.0.0->fr-core-news-sm==3.0.0) (1.7.3)\n",
      "Requirement already satisfied: jinja2 in c:\\users\\33665\\anaconda3\\envs\\salto\\lib\\site-packages (from spacy<3.1.0,>=3.0.0->fr-core-news-sm==3.0.0) (2.11.3)\n",
      "Requirement already satisfied: cymem<2.1.0,>=2.0.2 in c:\\users\\33665\\anaconda3\\envs\\salto\\lib\\site-packages (from spacy<3.1.0,>=3.0.0->fr-core-news-sm==3.0.0) (2.0.5)\n",
      "Requirement already satisfied: typer<0.4.0,>=0.3.0 in c:\\users\\33665\\anaconda3\\envs\\salto\\lib\\site-packages (from spacy<3.1.0,>=3.0.0->fr-core-news-sm==3.0.0) (0.3.2)\n",
      "Requirement already satisfied: spacy-legacy<3.1.0,>=3.0.0 in c:\\users\\33665\\anaconda3\\envs\\salto\\lib\\site-packages (from spacy<3.1.0,>=3.0.0->fr-core-news-sm==3.0.0) (3.0.2)\n",
      "Requirement already satisfied: tqdm<5.0.0,>=4.38.0 in c:\\users\\33665\\anaconda3\\envs\\salto\\lib\\site-packages (from spacy<3.1.0,>=3.0.0->fr-core-news-sm==3.0.0) (4.59.0)\n",
      "Requirement already satisfied: blis<0.8.0,>=0.4.0 in c:\\users\\33665\\anaconda3\\envs\\salto\\lib\\site-packages (from spacy<3.1.0,>=3.0.0->fr-core-news-sm==3.0.0) (0.7.4)\n",
      "Requirement already satisfied: srsly<3.0.0,>=2.4.0 in c:\\users\\33665\\anaconda3\\envs\\salto\\lib\\site-packages (from spacy<3.1.0,>=3.0.0->fr-core-news-sm==3.0.0) (2.4.1)\n",
      "Requirement already satisfied: pyparsing>=2.0.2 in c:\\users\\33665\\anaconda3\\envs\\salto\\lib\\site-packages (from packaging>=20.0->spacy<3.1.0,>=3.0.0->fr-core-news-sm==3.0.0) (2.4.7)\n",
      "Requirement already satisfied: smart-open<4.0.0,>=2.2.0 in c:\\users\\33665\\anaconda3\\envs\\salto\\lib\\site-packages (from pathy>=0.3.5->spacy<3.1.0,>=3.0.0->fr-core-news-sm==3.0.0) (3.0.0)\n",
      "Requirement already satisfied: chardet<5,>=3.0.2 in c:\\users\\33665\\anaconda3\\envs\\salto\\lib\\site-packages (from requests<3.0.0,>=2.13.0->spacy<3.1.0,>=3.0.0->fr-core-news-sm==3.0.0) (4.0.0)\n",
      "Requirement already satisfied: certifi>=2017.4.17 in c:\\users\\33665\\anaconda3\\envs\\salto\\lib\\site-packages (from requests<3.0.0,>=2.13.0->spacy<3.1.0,>=3.0.0->fr-core-news-sm==3.0.0) (2020.12.5)\n",
      "Requirement already satisfied: idna<3,>=2.5 in c:\\users\\33665\\anaconda3\\envs\\salto\\lib\\site-packages (from requests<3.0.0,>=2.13.0->spacy<3.1.0,>=3.0.0->fr-core-news-sm==3.0.0) (2.10)\n",
      "Requirement already satisfied: urllib3<1.27,>=1.21.1 in c:\\users\\33665\\anaconda3\\envs\\salto\\lib\\site-packages (from requests<3.0.0,>=2.13.0->spacy<3.1.0,>=3.0.0->fr-core-news-sm==3.0.0) (1.26.4)\n",
      "Requirement already satisfied: click<7.2.0,>=7.1.1 in c:\\users\\33665\\anaconda3\\envs\\salto\\lib\\site-packages (from typer<0.4.0,>=0.3.0->spacy<3.1.0,>=3.0.0->fr-core-news-sm==3.0.0) (7.1.2)\n",
      "Requirement already satisfied: MarkupSafe>=0.23 in c:\\users\\33665\\anaconda3\\envs\\salto\\lib\\site-packages (from jinja2->spacy<3.1.0,>=3.0.0->fr-core-news-sm==3.0.0) (1.1.1)\n",
      "[+] Download and installation successful\n",
      "You can now load the package via spacy.load('fr_core_news_sm')\n"
     ]
    },
    {
     "name": "stderr",
     "output_type": "stream",
     "text": [
      "2021-04-20 15:25:48.490768: W tensorflow/stream_executor/platform/default/dso_loader.cc:60] Could not load dynamic library 'cudart64_110.dll'; dlerror: cudart64_110.dll not found\n",
      "2021-04-20 15:25:48.490822: I tensorflow/stream_executor/cuda/cudart_stub.cc:29] Ignore above cudart dlerror if you do not have a GPU set up on your machine.\n"
     ]
    }
   ],
   "source": [
    "!python -m spacy download fr_core_news_sm"
   ]
  },
  {
   "cell_type": "markdown",
   "metadata": {
    "id": "VBnV02P_HYHB"
   },
   "source": [
    "Load now `fr_core_news_sm`"
   ]
  },
  {
   "cell_type": "code",
   "execution_count": 9,
   "metadata": {
    "id": "xhHn4g5VmlPa"
   },
   "outputs": [],
   "source": [
    "# Import Spacy and french initialisation\n",
    "import fr_core_news_sm\n",
    "nlp = fr_core_news_sm.load()"
   ]
  },
  {
   "cell_type": "markdown",
   "metadata": {
    "id": "SQL-RX0KHb-F"
   },
   "source": [
    "Import french STOP_WORDS"
   ]
  },
  {
   "cell_type": "code",
   "execution_count": 10,
   "metadata": {
    "id": "TZNd26-z1xIT"
   },
   "outputs": [],
   "source": [
    "# Import Stop words \n",
    "from spacy.lang.fr.stop_words import STOP_WORDS"
   ]
  },
  {
   "cell_type": "markdown",
   "metadata": {},
   "source": [
    "For reasons of speed, it is good practice to load the whole text corpus in a single variable and process everything at once on Spacy. So we merge all the lines in the dataset into one big `string`"
   ]
  },
  {
   "cell_type": "code",
   "execution_count": 11,
   "metadata": {},
   "outputs": [
    {
     "data": {
      "text/plain": [
       "2034458"
      ]
     },
     "execution_count": 11,
     "metadata": {},
     "output_type": "execute_result"
    }
   ],
   "source": [
    "corpus = \" \".join(french_reviews[\"review_format\"].to_list())\n",
    "len(corpus)"
   ]
  },
  {
   "cell_type": "markdown",
   "metadata": {
    "id": "CrkXKRjlfyib"
   },
   "source": [
    "We will now have to clean our texts in order to prepare them for training.rds."
   ]
  },
  {
   "cell_type": "code",
   "execution_count": 12,
   "metadata": {
    "colab": {
     "base_uri": "https://localhost:8080/",
     "height": 417
    },
    "id": "4JE3FrlIq_a8",
    "outputId": "9e6e97e7-3883-46dd-8a2a-c704fb3710de"
   },
   "outputs": [
    {
     "data": {
      "text/html": [
       "<div>\n",
       "<style scoped>\n",
       "    .dataframe tbody tr th:only-of-type {\n",
       "        vertical-align: middle;\n",
       "    }\n",
       "\n",
       "    .dataframe tbody tr th {\n",
       "        vertical-align: top;\n",
       "    }\n",
       "\n",
       "    .dataframe thead th {\n",
       "        text-align: right;\n",
       "    }\n",
       "</style>\n",
       "<table border=\"1\" class=\"dataframe\">\n",
       "  <thead>\n",
       "    <tr style=\"text-align: right;\">\n",
       "      <th></th>\n",
       "      <th>review_format</th>\n",
       "      <th>stars</th>\n",
       "      <th>review_format_clean</th>\n",
       "    </tr>\n",
       "  </thead>\n",
       "  <tbody>\n",
       "    <tr>\n",
       "      <th>0</th>\n",
       "      <td>génial  fabuleux  exceptionnel   j aimerais qu...</td>\n",
       "      <td>5</td>\n",
       "      <td>génial   fabuleux   exceptionnel    j aimer wa...</td>\n",
       "    </tr>\n",
       "    <tr>\n",
       "      <th>2</th>\n",
       "      <td>toujours aussi magic  féerique</td>\n",
       "      <td>5</td>\n",
       "      <td>magic   féerique</td>\n",
       "    </tr>\n",
       "    <tr>\n",
       "      <th>11</th>\n",
       "      <td>en vacances en région parisienne nous nous som...</td>\n",
       "      <td>2</td>\n",
       "      <td>vacance région parisien décider visiter parc r...</td>\n",
       "    </tr>\n",
       "    <tr>\n",
       "      <th>12</th>\n",
       "      <td>tropbeaufinalpleinlesyeuxoreil</td>\n",
       "      <td>5</td>\n",
       "      <td>tropbeaufinalpleinlesyeuxoreil</td>\n",
       "    </tr>\n",
       "    <tr>\n",
       "      <th>23</th>\n",
       "      <td>l univers disney reste merveilleux  toutefois ...</td>\n",
       "      <td>4</td>\n",
       "      <td>l univer disney merveilleux   toutefois regret...</td>\n",
       "    </tr>\n",
       "    <tr>\n",
       "      <th>...</th>\n",
       "      <td>...</td>\n",
       "      <td>...</td>\n",
       "      <td>...</td>\n",
       "    </tr>\n",
       "    <tr>\n",
       "      <th>295057</th>\n",
       "      <td>toujours aussi magique même si à la fin du séj...</td>\n",
       "      <td>5</td>\n",
       "      <td>magique fin séjour rotule lol</td>\n",
       "    </tr>\n",
       "    <tr>\n",
       "      <th>295549</th>\n",
       "      <td>séjour au top    mes enfants les plus heureux ...</td>\n",
       "      <td>5</td>\n",
       "      <td>séjour top     enfant heureux vouloir voir per...</td>\n",
       "    </tr>\n",
       "    <tr>\n",
       "      <th>298475</th>\n",
       "      <td>magnifique un monde parfait  lt</td>\n",
       "      <td>5</td>\n",
       "      <td>magnifique monde parfaire   lt</td>\n",
       "    </tr>\n",
       "    <tr>\n",
       "      <th>298832</th>\n",
       "      <td>oui j ai aimé car j adore disney et tout ce qu...</td>\n",
       "      <td>4</td>\n",
       "      <td>oui j aimer j adore disney touche univers     ...</td>\n",
       "    </tr>\n",
       "    <tr>\n",
       "      <th>299402</th>\n",
       "      <td>je vais à disney minimum  fois par saison car ...</td>\n",
       "      <td>5</td>\n",
       "      <td>aller disney minimum   fois saison magique pri...</td>\n",
       "    </tr>\n",
       "  </tbody>\n",
       "</table>\n",
       "<p>8474 rows × 3 columns</p>\n",
       "</div>"
      ],
      "text/plain": [
       "                                            review_format  stars  \\\n",
       "0       génial  fabuleux  exceptionnel   j aimerais qu...      5   \n",
       "2                        toujours aussi magic  féerique        5   \n",
       "11      en vacances en région parisienne nous nous som...      2   \n",
       "12                         tropbeaufinalpleinlesyeuxoreil      5   \n",
       "23      l univers disney reste merveilleux  toutefois ...      4   \n",
       "...                                                   ...    ...   \n",
       "295057  toujours aussi magique même si à la fin du séj...      5   \n",
       "295549  séjour au top    mes enfants les plus heureux ...      5   \n",
       "298475                   magnifique un monde parfait  lt       5   \n",
       "298832  oui j ai aimé car j adore disney et tout ce qu...      4   \n",
       "299402  je vais à disney minimum  fois par saison car ...      5   \n",
       "\n",
       "                                      review_format_clean  \n",
       "0       génial   fabuleux   exceptionnel    j aimer wa...  \n",
       "2                                        magic   féerique  \n",
       "11      vacance région parisien décider visiter parc r...  \n",
       "12                         tropbeaufinalpleinlesyeuxoreil  \n",
       "23      l univer disney merveilleux   toutefois regret...  \n",
       "...                                                   ...  \n",
       "295057                      magique fin séjour rotule lol  \n",
       "295549  séjour top     enfant heureux vouloir voir per...  \n",
       "298475                     magnifique monde parfaire   lt  \n",
       "298832  oui j aimer j adore disney touche univers     ...  \n",
       "299402  aller disney minimum   fois saison magique pri...  \n",
       "\n",
       "[8474 rows x 3 columns]"
      ]
     },
     "execution_count": 12,
     "metadata": {},
     "output_type": "execute_result"
    }
   ],
   "source": [
    "#using the command str.isalnum we remove all characters from the strings that are not alphanumeric except for whitespaces.\n",
    "french_reviews[\"review_format_clean\"] = french_reviews[\"review_format\"].apply(lambda x:''.join(ch for ch in x if ch.isalnum() or ch==\" \"))\n",
    "\n",
    "#using str.replace, str.lower and str.strip we replace double whitespaces with single whitespaces, convert all characters to lowercase and trim starting and finishing whitespaces.\n",
    "french_reviews[\"review_format_clean\"] = french_reviews[\"review_format_clean\"].apply(lambda x: x.replace(\" +\",\" \").lower().strip())\n",
    "\n",
    "#using spacy, we replace all tokens in the texts with lemma_ and remove all the stop words.\n",
    "french_reviews[\"review_format_clean\"] = french_reviews[\"review_format_clean\"].apply(lambda x: \" \".join([token.lemma_ for token in nlp(x) if token.lemma_ not in STOP_WORDS]))\n",
    "\n",
    "french_reviews"
   ]
  },
  {
   "cell_type": "markdown",
   "metadata": {
    "id": "sV1u8GZYhCLq"
   },
   "source": [
    "Let's tokenize"
   ]
  },
  {
   "cell_type": "code",
   "execution_count": 13,
   "metadata": {
    "id": "oWowSu9ZqB8Y"
   },
   "outputs": [],
   "source": [
    "import numpy as np\n",
    "tokenizer = tf.keras.preprocessing.text.Tokenizer()\n",
    "tokenizer.fit_on_texts(french_reviews.review_format_clean)\n",
    "french_reviews[\"review_encoded\"] = tokenizer.texts_to_sequences(french_reviews.review_format_clean)\n",
    "french_reviews[\"len_review\"] = french_reviews[\"review_encoded\"].apply(lambda x: len(x))\n",
    "french_reviews = french_reviews[french_reviews[\"len_review\"]!=0]"
   ]
  },
  {
   "cell_type": "code",
   "execution_count": 14,
   "metadata": {},
   "outputs": [
    {
     "data": {
      "text/html": [
       "<div>\n",
       "<style scoped>\n",
       "    .dataframe tbody tr th:only-of-type {\n",
       "        vertical-align: middle;\n",
       "    }\n",
       "\n",
       "    .dataframe tbody tr th {\n",
       "        vertical-align: top;\n",
       "    }\n",
       "\n",
       "    .dataframe thead th {\n",
       "        text-align: right;\n",
       "    }\n",
       "</style>\n",
       "<table border=\"1\" class=\"dataframe\">\n",
       "  <thead>\n",
       "    <tr style=\"text-align: right;\">\n",
       "      <th></th>\n",
       "      <th>review_format</th>\n",
       "      <th>stars</th>\n",
       "      <th>review_format_clean</th>\n",
       "      <th>review_encoded</th>\n",
       "      <th>len_review</th>\n",
       "    </tr>\n",
       "  </thead>\n",
       "  <tbody>\n",
       "    <tr>\n",
       "      <th>0</th>\n",
       "      <td>génial  fabuleux  exceptionnel   j aimerais qu...</td>\n",
       "      <td>5</td>\n",
       "      <td>génial   fabuleux   exceptionnel    j aimer wa...</td>\n",
       "      <td>[93, 539, 465, 6, 196, 413, 9, 5076, 1772]</td>\n",
       "      <td>9</td>\n",
       "    </tr>\n",
       "    <tr>\n",
       "      <th>2</th>\n",
       "      <td>toujours aussi magic  féerique</td>\n",
       "      <td>5</td>\n",
       "      <td>magic   féerique</td>\n",
       "      <td>[310, 66]</td>\n",
       "      <td>2</td>\n",
       "    </tr>\n",
       "    <tr>\n",
       "      <th>11</th>\n",
       "      <td>en vacances en région parisienne nous nous som...</td>\n",
       "      <td>2</td>\n",
       "      <td>vacance région parisien décider visiter parc r...</td>\n",
       "      <td>[380, 3042, 1773, 825, 529, 5, 1920, 3708, 109...</td>\n",
       "      <td>17</td>\n",
       "    </tr>\n",
       "    <tr>\n",
       "      <th>12</th>\n",
       "      <td>tropbeaufinalpleinlesyeuxoreil</td>\n",
       "      <td>5</td>\n",
       "      <td>tropbeaufinalpleinlesyeuxoreil</td>\n",
       "      <td>[5077]</td>\n",
       "      <td>1</td>\n",
       "    </tr>\n",
       "    <tr>\n",
       "      <th>23</th>\n",
       "      <td>l univers disney reste merveilleux  toutefois ...</td>\n",
       "      <td>4</td>\n",
       "      <td>l univer disney merveilleux   toutefois regret...</td>\n",
       "      <td>[4, 568, 9, 84, 1245, 683, 55, 58, 1921, 106, ...</td>\n",
       "      <td>16</td>\n",
       "    </tr>\n",
       "    <tr>\n",
       "      <th>...</th>\n",
       "      <td>...</td>\n",
       "      <td>...</td>\n",
       "      <td>...</td>\n",
       "      <td>...</td>\n",
       "      <td>...</td>\n",
       "    </tr>\n",
       "    <tr>\n",
       "      <th>295057</th>\n",
       "      <td>toujours aussi magique même si à la fin du séj...</td>\n",
       "      <td>5</td>\n",
       "      <td>magique fin séjour rotule lol</td>\n",
       "      <td>[12, 177, 33, 10109, 404]</td>\n",
       "      <td>5</td>\n",
       "    </tr>\n",
       "    <tr>\n",
       "      <th>295549</th>\n",
       "      <td>séjour au top    mes enfants les plus heureux ...</td>\n",
       "      <td>5</td>\n",
       "      <td>séjour top     enfant heureux vouloir voir per...</td>\n",
       "      <td>[33, 45, 18, 289, 95, 27, 48, 140, 33, 46, 563...</td>\n",
       "      <td>13</td>\n",
       "    </tr>\n",
       "    <tr>\n",
       "      <th>298475</th>\n",
       "      <td>magnifique un monde parfait  lt</td>\n",
       "      <td>5</td>\n",
       "      <td>magnifique monde parfaire   lt</td>\n",
       "      <td>[28, 31, 116, 153]</td>\n",
       "      <td>4</td>\n",
       "    </tr>\n",
       "    <tr>\n",
       "      <th>298832</th>\n",
       "      <td>oui j ai aimé car j adore disney et tout ce qu...</td>\n",
       "      <td>4</td>\n",
       "      <td>oui j aimer j adore disney touche univers     ...</td>\n",
       "      <td>[180, 6, 196, 6, 81, 9, 2207, 677, 43, 18, 408...</td>\n",
       "      <td>16</td>\n",
       "    </tr>\n",
       "    <tr>\n",
       "      <th>299402</th>\n",
       "      <td>je vais à disney minimum  fois par saison car ...</td>\n",
       "      <td>5</td>\n",
       "      <td>aller disney minimum   fois saison magique pri...</td>\n",
       "      <td>[20, 9, 385, 19, 282, 12, 1190, 4, 1188, 6, 25...</td>\n",
       "      <td>49</td>\n",
       "    </tr>\n",
       "  </tbody>\n",
       "</table>\n",
       "<p>8471 rows × 5 columns</p>\n",
       "</div>"
      ],
      "text/plain": [
       "                                            review_format  stars  \\\n",
       "0       génial  fabuleux  exceptionnel   j aimerais qu...      5   \n",
       "2                        toujours aussi magic  féerique        5   \n",
       "11      en vacances en région parisienne nous nous som...      2   \n",
       "12                         tropbeaufinalpleinlesyeuxoreil      5   \n",
       "23      l univers disney reste merveilleux  toutefois ...      4   \n",
       "...                                                   ...    ...   \n",
       "295057  toujours aussi magique même si à la fin du séj...      5   \n",
       "295549  séjour au top    mes enfants les plus heureux ...      5   \n",
       "298475                   magnifique un monde parfait  lt       5   \n",
       "298832  oui j ai aimé car j adore disney et tout ce qu...      4   \n",
       "299402  je vais à disney minimum  fois par saison car ...      5   \n",
       "\n",
       "                                      review_format_clean  \\\n",
       "0       génial   fabuleux   exceptionnel    j aimer wa...   \n",
       "2                                        magic   féerique   \n",
       "11      vacance région parisien décider visiter parc r...   \n",
       "12                         tropbeaufinalpleinlesyeuxoreil   \n",
       "23      l univer disney merveilleux   toutefois regret...   \n",
       "...                                                   ...   \n",
       "295057                      magique fin séjour rotule lol   \n",
       "295549  séjour top     enfant heureux vouloir voir per...   \n",
       "298475                     magnifique monde parfaire   lt   \n",
       "298832  oui j aimer j adore disney touche univers     ...   \n",
       "299402  aller disney minimum   fois saison magique pri...   \n",
       "\n",
       "                                           review_encoded  len_review  \n",
       "0              [93, 539, 465, 6, 196, 413, 9, 5076, 1772]           9  \n",
       "2                                               [310, 66]           2  \n",
       "11      [380, 3042, 1773, 825, 529, 5, 1920, 3708, 109...          17  \n",
       "12                                                 [5077]           1  \n",
       "23      [4, 568, 9, 84, 1245, 683, 55, 58, 1921, 106, ...          16  \n",
       "...                                                   ...         ...  \n",
       "295057                          [12, 177, 33, 10109, 404]           5  \n",
       "295549  [33, 45, 18, 289, 95, 27, 48, 140, 33, 46, 563...          13  \n",
       "298475                                 [28, 31, 116, 153]           4  \n",
       "298832  [180, 6, 196, 6, 81, 9, 2207, 677, 43, 18, 408...          16  \n",
       "299402  [20, 9, 385, 19, 282, 12, 1190, 4, 1188, 6, 25...          49  \n",
       "\n",
       "[8471 rows x 5 columns]"
      ]
     },
     "execution_count": 14,
     "metadata": {},
     "output_type": "execute_result"
    }
   ],
   "source": [
    "french_reviews"
   ]
  },
  {
   "cell_type": "markdown",
   "metadata": {
    "id": "2iWhGYhtim0_"
   },
   "source": [
    "Now we will have to store all of our encoded texts into a single numpy array before creating the tensorflow dataset.\n",
    "\r",
    "We will use  `tf.keras.preprocessing.sequence.pad_sequences`to  add zero padding at the end (`padding=\"post\"`) ofther sequences so they all have equal length."
   ]
  },
  {
   "cell_type": "code",
   "execution_count": 15,
   "metadata": {
    "id": "lI8qSZloil3w"
   },
   "outputs": [],
   "source": [
    "reviews_pad = tf.keras.preprocessing.sequence.pad_sequences(french_reviews.review_encoded, padding=\"post\")"
   ]
  },
  {
   "cell_type": "markdown",
   "metadata": {
    "id": "3YBVKh6XjY6X"
   },
   "source": [
    "Now that the sequences are padded we create the tensor dataset"
   ]
  },
  {
   "cell_type": "code",
   "execution_count": 16,
   "metadata": {
    "id": "3_-Oldl3jlUl"
   },
   "outputs": [],
   "source": [
    "full_ds = tf.data.Dataset.from_tensor_slices((reviews_pad, french_reviews.stars.values-1))"
   ]
  },
  {
   "cell_type": "markdown",
   "metadata": {
    "id": "6Ch6zwLZpW6i"
   },
   "source": [
    "## train_test_split"
   ]
  },
  {
   "cell_type": "code",
   "execution_count": 17,
   "metadata": {
    "id": "uo7edz0PAr3v"
   },
   "outputs": [],
   "source": [
    "# Train Test Split\n",
    "TAKE_SIZE = int(0.7*french_reviews.shape[0])\n",
    "\n",
    "train_data = full_ds.take(TAKE_SIZE).shuffle(TAKE_SIZE)\n",
    "train_data = train_data.batch(16)\n",
    "\n",
    "test_data = full_ds.skip(TAKE_SIZE)\n",
    "test_data = test_data.batch(16)"
   ]
  },
  {
   "cell_type": "markdown",
   "metadata": {
    "id": "EpUQB9xApckV"
   },
   "source": [
    "let's Look at a batch of data "
   ]
  },
  {
   "cell_type": "code",
   "execution_count": 18,
   "metadata": {
    "colab": {
     "base_uri": "https://localhost:8080/",
     "height": 178
    },
    "id": "V8jxCfSSOUZ_",
    "outputId": "66de390d-23ff-4273-8bbf-20c1e8d13840"
   },
   "outputs": [
    {
     "name": "stdout",
     "output_type": "stream",
     "text": [
      "tf.Tensor(\n",
      "[[ 935 6300   95 ...    0    0    0]\n",
      " [ 103    5  682 ...    0    0    0]\n",
      " [   5   93   91 ...    0    0    0]\n",
      " ...\n",
      " [  33  178   41 ...    0    0    0]\n",
      " [  13   12  155 ...    0    0    0]\n",
      " [   3  189 5665 ...    0    0    0]], shape=(16, 248), dtype=int32) tf.Tensor([2 2 2 4 3 3 4 2 3 4 3 4 4 3 4 4], shape=(16,), dtype=int64)\n"
     ]
    }
   ],
   "source": [
    "for review, star in train_data.take(1):\n",
    "    print(review, star)"
   ]
  },
  {
   "cell_type": "code",
   "execution_count": 19,
   "metadata": {
    "colab": {
     "base_uri": "https://localhost:8080/",
     "height": 34
    },
    "id": "Nv4AkD-isvnv",
    "outputId": "120f3a05-9cb4-4d4b-b606-9575bd243a96"
   },
   "outputs": [
    {
     "data": {
      "text/plain": [
       "8471"
      ]
     },
     "execution_count": 19,
     "metadata": {},
     "output_type": "execute_result"
    }
   ],
   "source": [
    "len(french_reviews)"
   ]
  },
  {
   "cell_type": "markdown",
   "metadata": {
    "id": "lMaPEPk6QS4x"
   },
   "source": [
    "## Modeling\n",
    "\n",
    "Let's create a model based on an LSTM layer to classify our different translations "
   ]
  },
  {
   "cell_type": "markdown",
   "metadata": {
    "id": "rD3n6l1TplDN"
   },
   "source": [
    "We will eventually add a CNN-1D layer that can help the model to summarize the information."
   ]
  },
  {
   "cell_type": "code",
   "execution_count": 20,
   "metadata": {},
   "outputs": [],
   "source": [
    "vocab_size = len(tokenizer.word_index)"
   ]
  },
  {
   "cell_type": "code",
   "execution_count": 28,
   "metadata": {
    "id": "kYxNpFYEUWI4"
   },
   "outputs": [],
   "source": [
    "model = tf.keras.Sequential([\n",
    "                  # Couche d'Input Word Embedding           \n",
    "                  tf.keras.layers.Embedding(vocab_size+1, 64, input_shape=[review.shape[1],]),\n",
    "\n",
    "                  # Couche CNN\n",
    "                  tf.keras.layers.Conv1D(16, 3, activation=\"relu\"),  \n",
    "\n",
    "                  # flatten output\n",
    "                  tf.keras.layers.Flatten()   ,       \n",
    "\n",
    "                  # Couche Dense classique \n",
    "                  tf.keras.layers.Dense(64, activation='relu'),\n",
    "                  tf.keras.layers.Dense(32, activation='relu'),\n",
    "                  tf.keras.layers.Dense(16, activation='relu'),\n",
    "                  tf.keras.layers.Dense(8, activation='relu'),\n",
    "\n",
    "                  # Couche de sortie avec le nombre de neurones en sortie égale au nombre de classe avec fonction softmax\n",
    "                  tf.keras.layers.Dense(5, activation=\"softmax\")\n",
    "                                              \n",
    "])"
   ]
  },
  {
   "cell_type": "code",
   "execution_count": 29,
   "metadata": {
    "colab": {
     "base_uri": "https://localhost:8080/",
     "height": 34
    },
    "id": "OlObyGbI3W6o",
    "outputId": "cc273608-3260-4964-f2f5-357c346718cc"
   },
   "outputs": [
    {
     "data": {
      "text/plain": [
       "10109"
      ]
     },
     "execution_count": 29,
     "metadata": {},
     "output_type": "execute_result"
    }
   ],
   "source": [
    "vocab_size"
   ]
  },
  {
   "cell_type": "code",
   "execution_count": 30,
   "metadata": {
    "colab": {
     "base_uri": "https://localhost:8080/",
     "height": 510
    },
    "id": "-KTqV8Mw0xQ5",
    "outputId": "5f184f0f-78f9-4326-be66-f05f9dcb8214"
   },
   "outputs": [
    {
     "name": "stdout",
     "output_type": "stream",
     "text": [
      "Model: \"sequential_1\"\n",
      "_________________________________________________________________\n",
      "Layer (type)                 Output Shape              Param #   \n",
      "=================================================================\n",
      "embedding_1 (Embedding)      (None, 248, 64)           647040    \n",
      "_________________________________________________________________\n",
      "conv1d_1 (Conv1D)            (None, 246, 16)           3088      \n",
      "_________________________________________________________________\n",
      "flatten_1 (Flatten)          (None, 3936)              0         \n",
      "_________________________________________________________________\n",
      "dense_5 (Dense)              (None, 64)                251968    \n",
      "_________________________________________________________________\n",
      "dense_6 (Dense)              (None, 32)                2080      \n",
      "_________________________________________________________________\n",
      "dense_7 (Dense)              (None, 16)                528       \n",
      "_________________________________________________________________\n",
      "dense_8 (Dense)              (None, 8)                 136       \n",
      "_________________________________________________________________\n",
      "dense_9 (Dense)              (None, 5)                 45        \n",
      "=================================================================\n",
      "Total params: 904,885\n",
      "Trainable params: 904,885\n",
      "Non-trainable params: 0\n",
      "_________________________________________________________________\n"
     ]
    }
   ],
   "source": [
    "model.summary()"
   ]
  },
  {
   "cell_type": "markdown",
   "metadata": {
    "id": "v-gKYS4_pu8I"
   },
   "source": [
    "Let's create a `learning_rate_schedule` and compile the model with the correct cost function. "
   ]
  },
  {
   "cell_type": "code",
   "execution_count": 31,
   "metadata": {
    "id": "yOXk9F0YQ0j5"
   },
   "outputs": [],
   "source": [
    "initial_learning_rate = 0.0001\n",
    "\n",
    "lr_schedule = tf.keras.optimizers.schedules.ExponentialDecay(\n",
    "    initial_learning_rate,\n",
    "    decay_steps=2500,\n",
    "    decay_rate=0.96,\n",
    "    staircase=True)\n",
    "\n",
    "# Utilisation d'un compileur simple avec un optimiseur Adam pour le calcul de nos gradients \n",
    "optimizer= tf.keras.optimizers.Adam(\n",
    "    learning_rate = lr_schedule\n",
    ")\n",
    "\n",
    "model.compile(optimizer=optimizer,\n",
    "              loss=tf.keras.losses.SparseCategoricalCrossentropy(),\n",
    "              metrics=[tf.keras.metrics.SparseCategoricalAccuracy()])"
   ]
  },
  {
   "cell_type": "markdown",
   "metadata": {
    "id": "r5Rsbpckp3jK"
   },
   "source": [
    "We fit the model on 40 epochs with weights to penalize too frequent notes. "
   ]
  },
  {
   "cell_type": "code",
   "execution_count": 32,
   "metadata": {
    "id": "9Fe2WfJEW08Z"
   },
   "outputs": [],
   "source": [
    "class_weight = {\n",
    "    0:2,\n",
    "    1:2,\n",
    "    2:1,\n",
    "    3:0.75,\n",
    "    4:0.5\n",
    "}"
   ]
  },
  {
   "cell_type": "code",
   "execution_count": 33,
   "metadata": {
    "colab": {
     "base_uri": "https://localhost:8080/",
     "height": 385
    },
    "id": "9qvWNK09RAPR",
    "outputId": "fb9eeade-1c15-4259-b6b6-3c06ab0f1fc7"
   },
   "outputs": [
    {
     "name": "stdout",
     "output_type": "stream",
     "text": [
      "Epoch 1/40\n",
      "371/371 [==============================] - 3s 7ms/step - loss: 1.2416 - sparse_categorical_accuracy: 0.5305 - val_loss: 1.2722 - val_sparse_categorical_accuracy: 0.6747\n",
      "Epoch 2/40\n",
      "371/371 [==============================] - 3s 7ms/step - loss: 1.1809 - sparse_categorical_accuracy: 0.5445 - val_loss: 1.0196 - val_sparse_categorical_accuracy: 0.6896\n",
      "Epoch 3/40\n",
      "371/371 [==============================] - 3s 7ms/step - loss: 1.0606 - sparse_categorical_accuracy: 0.5858 - val_loss: 0.9110 - val_sparse_categorical_accuracy: 0.6975\n",
      "Epoch 4/40\n",
      "371/371 [==============================] - 3s 7ms/step - loss: 0.9960 - sparse_categorical_accuracy: 0.6106 - val_loss: 0.8436 - val_sparse_categorical_accuracy: 0.6920\n",
      "Epoch 5/40\n",
      "371/371 [==============================] - 3s 7ms/step - loss: 0.9386 - sparse_categorical_accuracy: 0.6352 - val_loss: 0.8564 - val_sparse_categorical_accuracy: 0.6794\n",
      "Epoch 6/40\n",
      "371/371 [==============================] - 3s 7ms/step - loss: 0.8658 - sparse_categorical_accuracy: 0.6677 - val_loss: 0.8801 - val_sparse_categorical_accuracy: 0.6428\n",
      "Epoch 7/40\n",
      "371/371 [==============================] - 3s 7ms/step - loss: 0.8249 - sparse_categorical_accuracy: 0.6868 - val_loss: 0.8314 - val_sparse_categorical_accuracy: 0.6542\n",
      "Epoch 8/40\n",
      "371/371 [==============================] - 3s 7ms/step - loss: 0.7746 - sparse_categorical_accuracy: 0.7135 - val_loss: 0.8812 - val_sparse_categorical_accuracy: 0.6259\n",
      "Epoch 9/40\n",
      "371/371 [==============================] - 3s 7ms/step - loss: 0.7515 - sparse_categorical_accuracy: 0.7294 - val_loss: 0.8735 - val_sparse_categorical_accuracy: 0.6294\n",
      "Epoch 10/40\n",
      "371/371 [==============================] - 3s 7ms/step - loss: 0.7046 - sparse_categorical_accuracy: 0.7400 - val_loss: 0.8789 - val_sparse_categorical_accuracy: 0.6318\n",
      "Epoch 11/40\n",
      "371/371 [==============================] - 3s 7ms/step - loss: 0.6740 - sparse_categorical_accuracy: 0.7501 - val_loss: 0.8972 - val_sparse_categorical_accuracy: 0.6314\n",
      "Epoch 12/40\n",
      "371/371 [==============================] - 3s 7ms/step - loss: 0.6638 - sparse_categorical_accuracy: 0.7617 - val_loss: 0.9136 - val_sparse_categorical_accuracy: 0.6389\n",
      "Epoch 13/40\n",
      "371/371 [==============================] - 3s 7ms/step - loss: 0.6396 - sparse_categorical_accuracy: 0.7660 - val_loss: 0.9685 - val_sparse_categorical_accuracy: 0.6231\n",
      "Epoch 14/40\n",
      "371/371 [==============================] - 3s 7ms/step - loss: 0.6012 - sparse_categorical_accuracy: 0.7765 - val_loss: 1.0020 - val_sparse_categorical_accuracy: 0.6204\n",
      "Epoch 15/40\n",
      "371/371 [==============================] - 3s 7ms/step - loss: 0.5846 - sparse_categorical_accuracy: 0.7990 - val_loss: 1.0652 - val_sparse_categorical_accuracy: 0.6039\n",
      "Epoch 16/40\n",
      "371/371 [==============================] - 3s 7ms/step - loss: 0.5443 - sparse_categorical_accuracy: 0.8077 - val_loss: 1.0786 - val_sparse_categorical_accuracy: 0.6286\n",
      "Epoch 17/40\n",
      "371/371 [==============================] - 3s 7ms/step - loss: 0.5376 - sparse_categorical_accuracy: 0.8160 - val_loss: 1.1103 - val_sparse_categorical_accuracy: 0.6361\n",
      "Epoch 18/40\n",
      "371/371 [==============================] - 3s 8ms/step - loss: 0.5129 - sparse_categorical_accuracy: 0.8307 - val_loss: 1.1787 - val_sparse_categorical_accuracy: 0.6164\n",
      "Epoch 19/40\n",
      "371/371 [==============================] - 3s 7ms/step - loss: 0.4886 - sparse_categorical_accuracy: 0.8435 - val_loss: 1.2194 - val_sparse_categorical_accuracy: 0.6298\n",
      "Epoch 20/40\n",
      "371/371 [==============================] - 3s 7ms/step - loss: 0.4750 - sparse_categorical_accuracy: 0.8611 - val_loss: 1.3143 - val_sparse_categorical_accuracy: 0.6007\n",
      "Epoch 21/40\n",
      "371/371 [==============================] - 3s 7ms/step - loss: 0.4595 - sparse_categorical_accuracy: 0.8599 - val_loss: 1.3668 - val_sparse_categorical_accuracy: 0.6027\n",
      "Epoch 22/40\n",
      "371/371 [==============================] - 3s 7ms/step - loss: 0.4267 - sparse_categorical_accuracy: 0.8680 - val_loss: 1.4259 - val_sparse_categorical_accuracy: 0.6074\n",
      "Epoch 23/40\n",
      "371/371 [==============================] - 3s 7ms/step - loss: 0.3781 - sparse_categorical_accuracy: 0.8903 - val_loss: 1.4603 - val_sparse_categorical_accuracy: 0.6141\n",
      "Epoch 24/40\n",
      "371/371 [==============================] - 3s 7ms/step - loss: 0.3921 - sparse_categorical_accuracy: 0.8908 - val_loss: 1.5408 - val_sparse_categorical_accuracy: 0.6086\n",
      "Epoch 25/40\n",
      "371/371 [==============================] - 3s 7ms/step - loss: 0.3670 - sparse_categorical_accuracy: 0.9029 - val_loss: 1.6385 - val_sparse_categorical_accuracy: 0.5991\n",
      "Epoch 26/40\n",
      "371/371 [==============================] - 3s 7ms/step - loss: 0.3528 - sparse_categorical_accuracy: 0.9081 - val_loss: 1.6708 - val_sparse_categorical_accuracy: 0.6192\n",
      "Epoch 27/40\n",
      "371/371 [==============================] - 3s 7ms/step - loss: 0.3245 - sparse_categorical_accuracy: 0.9067 - val_loss: 1.7136 - val_sparse_categorical_accuracy: 0.6389\n",
      "Epoch 28/40\n",
      "371/371 [==============================] - 3s 8ms/step - loss: 0.3046 - sparse_categorical_accuracy: 0.9149 - val_loss: 1.7936 - val_sparse_categorical_accuracy: 0.6200\n",
      "Epoch 29/40\n",
      "371/371 [==============================] - 3s 8ms/step - loss: 0.2820 - sparse_categorical_accuracy: 0.9204 - val_loss: 1.8928 - val_sparse_categorical_accuracy: 0.6058\n",
      "Epoch 30/40\n",
      "371/371 [==============================] - 3s 7ms/step - loss: 0.2654 - sparse_categorical_accuracy: 0.9204 - val_loss: 1.9462 - val_sparse_categorical_accuracy: 0.6117\n",
      "Epoch 31/40\n",
      "371/371 [==============================] - 3s 7ms/step - loss: 0.2403 - sparse_categorical_accuracy: 0.9318 - val_loss: 1.9952 - val_sparse_categorical_accuracy: 0.6235\n",
      "Epoch 32/40\n",
      "371/371 [==============================] - 3s 7ms/step - loss: 0.2317 - sparse_categorical_accuracy: 0.9316 - val_loss: 2.0677 - val_sparse_categorical_accuracy: 0.6192\n",
      "Epoch 33/40\n",
      "371/371 [==============================] - 3s 7ms/step - loss: 0.2092 - sparse_categorical_accuracy: 0.9350 - val_loss: 2.0922 - val_sparse_categorical_accuracy: 0.6145\n",
      "Epoch 34/40\n",
      "371/371 [==============================] - 3s 8ms/step - loss: 0.2284 - sparse_categorical_accuracy: 0.9274 - val_loss: 2.1690 - val_sparse_categorical_accuracy: 0.6066\n",
      "Epoch 35/40\n",
      "371/371 [==============================] - 3s 7ms/step - loss: 0.2072 - sparse_categorical_accuracy: 0.9409 - val_loss: 2.2080 - val_sparse_categorical_accuracy: 0.6082\n",
      "Epoch 36/40\n",
      "371/371 [==============================] - 3s 7ms/step - loss: 0.1842 - sparse_categorical_accuracy: 0.9428 - val_loss: 2.2543 - val_sparse_categorical_accuracy: 0.6200\n",
      "Epoch 37/40\n",
      "371/371 [==============================] - 3s 7ms/step - loss: 0.2015 - sparse_categorical_accuracy: 0.9406 - val_loss: 2.3271 - val_sparse_categorical_accuracy: 0.6153\n",
      "Epoch 38/40\n",
      "371/371 [==============================] - 3s 7ms/step - loss: 0.1795 - sparse_categorical_accuracy: 0.9436 - val_loss: 2.3820 - val_sparse_categorical_accuracy: 0.6137\n",
      "Epoch 39/40\n",
      "371/371 [==============================] - 3s 8ms/step - loss: 0.1809 - sparse_categorical_accuracy: 0.9440 - val_loss: 2.4628 - val_sparse_categorical_accuracy: 0.5818\n",
      "Epoch 40/40\n",
      "371/371 [==============================] - 3s 8ms/step - loss: 0.1697 - sparse_categorical_accuracy: 0.9450 - val_loss: 2.4903 - val_sparse_categorical_accuracy: 0.6141\n"
     ]
    }
   ],
   "source": [
    "#Train model\n",
    "history = model.fit(train_data, \n",
    "                    epochs=40, \n",
    "                    validation_data=test_data,\n",
    "                    class_weight=class_weight)"
   ]
  },
  {
   "cell_type": "markdown",
   "metadata": {
    "id": "1sVDED3Js3u9"
   },
   "source": [
    "Let's view an example of prediction on the test data"
   ]
  },
  {
   "cell_type": "code",
   "execution_count": 60,
   "metadata": {
    "colab": {
     "base_uri": "https://localhost:8080/",
     "height": 89
    },
    "id": "VFf1gv90wfV0",
    "outputId": "ef17d337-e7a8-423a-b2ad-0ae33825274d"
   },
   "outputs": [
    {
     "name": "stdout",
     "output_type": "stream",
     "text": [
      "Prediction : [4 4 4 4 3 1 2 0 1 3 3 3 4 4 0 2]\n",
      "Real: [4 3 3 1 2 2 1 1 1 3 4 3 2 4 2 2]\n"
     ]
    }
   ],
   "source": [
    "for example, label in test_data.take(1):\n",
    " # print(reviews_pad.decode(example.numpy()[0]))\n",
    "  print(\"Prediction : {}\".format(model.predict_classes(example)))\n",
    "  print(\"Real: {}\".format(label))"
   ]
  },
  {
   "cell_type": "markdown",
   "metadata": {
    "id": "xDnsfUFQTkyJ"
   },
   "source": [
    "## Evaluation "
   ]
  },
  {
   "cell_type": "markdown",
   "metadata": {
    "id": "9Exbx9Bms-xZ"
   },
   "source": [
    "1. Create a graph showing your loss in relation to the number of epochs."
   ]
  },
  {
   "cell_type": "code",
   "execution_count": 34,
   "metadata": {
    "colab": {
     "base_uri": "https://localhost:8080/",
     "height": 279
    },
    "id": "mafVWHDFRIH6",
    "outputId": "5f5f2fa6-61a0-4374-aaae-b3dcba36bc5b"
   },
   "outputs": [
    {
     "data": {
      "image/png": "[encoded data removed]",
      "text/plain": [
       "<Figure size 432x288 with 1 Axes>"
      ]
     },
     "metadata": {
      "needs_background": "light"
     },
     "output_type": "display_data"
    }
   ],
   "source": [
    "import matplotlib.pyplot as plt\n",
    "\n",
    "# Visualization of the training process on the loss function \n",
    "plt.plot(history.history[\"loss\"], color=\"b\")\n",
    "plt.plot(history.history[\"val_loss\"], color=\"r\")\n",
    "plt.ylabel(\"loss\")\n",
    "plt.xlabel(\"Epochs\")\n",
    "plt.show()"
   ]
  },
  {
   "cell_type": "markdown",
   "metadata": {
    "id": "gzFU7VcMtF2j"
   },
   "source": [
    "2. Create a graph showing your accuracy in relation to the number of epochs."
   ]
  },
  {
   "cell_type": "code",
   "execution_count": 35,
   "metadata": {
    "colab": {
     "base_uri": "https://localhost:8080/",
     "height": 279
    },
    "id": "D96WZP8cVOFL",
    "outputId": "d475e2e6-a101-474a-e1f9-6e7290be6c4f"
   },
   "outputs": [
    {
     "data": {
      "image/png": "[encoded data removed]",
      "text/plain": [
       "<Figure size 432x288 with 1 Axes>"
      ]
     },
     "metadata": {
      "needs_background": "light"
     },
     "output_type": "display_data"
    }
   ],
   "source": [
    "# Visualization of accuracy training \n",
    "plt.plot(history.history[\"sparse_categorical_accuracy\"], color=\"b\")\n",
    "plt.plot(history.history[\"val_sparse_categorical_accuracy\"], color=\"r\")\n",
    "plt.ylabel(\"accuracy\")\n",
    "plt.xlabel(\"Epochs\")\n",
    "plt.show()"
   ]
  },
  {
   "cell_type": "code",
   "execution_count": null,
   "metadata": {},
   "outputs": [],
   "source": []
  }
 ],
 "metadata": {
  "accelerator": "GPU",
  "colab": {
   "collapsed_sections": [],
   "name": "04-Sentiment_Analysis_with_Spacy_solutions_tf2.ipynb",
   "provenance": []
  },
  "kernelspec": {
   "display_name": "Python 3",
   "language": "python",
   "name": "python3"
  },
  "language_info": {
   "codemirror_mode": {
    "name": "ipython",
    "version": 3
   },
   "file_extension": ".py",
   "mimetype": "text/x-python",
   "name": "python",
   "nbconvert_exporter": "python",
   "pygments_lexer": "ipython3",
   "version": "3.9.2"
  }
 },
 "nbformat": 4,
 "nbformat_minor": 4
}
